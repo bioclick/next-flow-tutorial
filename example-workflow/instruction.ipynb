{
 "cells": [
  {
   "cell_type": "markdown",
   "metadata": {},
   "source": [
    "In this section, we are going to use an [example](https://www.nextflow.io/example4.html) provided by [NextFlow](https://www.nextflow.io/), in which they have described a workflow for RNA-seq."
   ]
  },
  {
   "cell_type": "markdown",
   "metadata": {},
   "source": [
    "# Installation"
   ]
  },
  {
   "cell_type": "code",
   "execution_count": null,
   "metadata": {},
   "outputs": [],
   "source": [
    "! curl -fsSL get.nextflow.io | bash"
   ]
  },
  {
   "cell_type": "markdown",
   "metadata": {},
   "source": [
    "# RNA-Seq pipeline"
   ]
  },
  {
   "cell_type": "markdown",
   "metadata": {},
   "source": [
    "This example shows how to put together a basic RNA-Seq pipeline. It maps a collection of read-pairs to a given reference genome and outputs the respective transcript model."
   ]
  },
  {
   "cell_type": "markdown",
   "metadata": {},
   "source": [
    "***rna-seq.nf***"
   ]
  },
  {
   "cell_type": "markdown",
   "metadata": {},
   "source": [
    "```groovy\n",
    "#!/usr/bin/env nextflow\n",
    "\n",
    "/*\n",
    " * The following pipeline parameters specify the reference genomes\n",
    " * and read pairs and can be provided as command line options\n",
    " */\n",
    "params.reads = \"$baseDir/data/ggal/ggal_gut_{1,2}.fq\"\n",
    "params.transcriptome = \"$baseDir/data/ggal/ggal_1_48850000_49020000.Ggal71.500bpflank.fa\"\n",
    "params.outdir = \"results\"\n",
    "\n",
    "workflow {\n",
    "    read_pairs_ch = channel.fromFilePairs( params.reads, checkIfExists: true )\n",
    "\n",
    "    INDEX(params.transcriptome)\n",
    "    FASTQC(read_pairs_ch)\n",
    "    QUANT(INDEX.out, read_pairs_ch)\n",
    "}\n",
    "\n",
    "process INDEX {\n",
    "    tag \"$transcriptome.simpleName\"\n",
    "\n",
    "    input:\n",
    "    path transcriptome\n",
    "\n",
    "    output:\n",
    "    path 'index'\n",
    "\n",
    "    script:\n",
    "    \"\"\"\n",
    "    salmon index --threads $task.cpus -t $transcriptome -i index\n",
    "    \"\"\"\n",
    "}\n",
    "\n",
    "process FASTQC {\n",
    "    tag \"FASTQC on $sample_id\"\n",
    "    publishDir params.outdir\n",
    "\n",
    "    input:\n",
    "    tuple val(sample_id), path(reads)\n",
    "\n",
    "    output:\n",
    "    path \"fastqc_${sample_id}_logs\"\n",
    "\n",
    "    script:\n",
    "    \"\"\"\n",
    "    fastqc.sh \"$sample_id\" \"$reads\"\n",
    "    \"\"\"\n",
    "}\n",
    "\n",
    "process QUANT {\n",
    "    tag \"$pair_id\"\n",
    "    publishDir params.outdir\n",
    "\n",
    "    input:\n",
    "    path index\n",
    "    tuple val(pair_id), path(reads)\n",
    "\n",
    "    output:\n",
    "    path pair_id\n",
    "\n",
    "    script:\n",
    "    \"\"\"\n",
    "    salmon quant --threads $task.cpus --libType=U -i $index -1 ${reads[0]} -2 ${reads[1]} -o $pair_id\n",
    "    \"\"\"\n",
    "}\n",
    "```"
   ]
  },
  {
   "cell_type": "markdown",
   "metadata": {},
   "source": [
    "## Let's dig deeper and see some exlainations"
   ]
  },
  {
   "cell_type": "markdown",
   "metadata": {},
   "source": [
    "### Pipeline Parameters:\n",
    "```groovy\n",
    "params.reads = \"$baseDir/data/ggal/ggal_gut_{1,2}.fq\"\n",
    "params.transcriptome = \"$baseDir/data/ggal/ggal_1_48850000_49020000.Ggal71.500bpflank.fa\"\n",
    "params.outdir = \"results\"\n",
    "```"
   ]
  },
  {
   "cell_type": "markdown",
   "metadata": {},
   "source": [
    "- `params.reads:` Specifies the input read pairs. The {1,2} in the path indicates that there are two read files per sample, denoted by {1} and {2}.\n",
    "- `params.transcriptome:` Specifies the reference transcriptome file.\n",
    "- `params.outdir:` Specifies the output directory where results will be saved."
   ]
  },
  {
   "cell_type": "markdown",
   "metadata": {},
   "source": [
    "### Workflow Definition:"
   ]
  },
  {
   "cell_type": "markdown",
   "metadata": {},
   "source": [
    "```groovy\n",
    "workflow {\n",
    "    read_pairs_ch = channel.fromFilePairs( params.reads, checkIfExists: true )\n",
    "\n",
    "    INDEX(params.transcriptome)\n",
    "    FASTQC(read_pairs_ch)\n",
    "    QUANT(INDEX.out, read_pairs_ch)\n",
    "}\n",
    "```"
   ]
  },
  {
   "cell_type": "markdown",
   "metadata": {},
   "source": [
    "- `workflow:` Defines the workflow of the pipeline.\n",
    "- `read_pairs_ch:` Creates a channel of file pairs from the read input files.\n",
    "- `INDEX, FASTQC, QUANT:` These are the processes in the workflow. They are executed sequentially.\n",
    "  - `INDEX:` Indexes the reference transcriptome.\n",
    "  - `FASTQC:` Performs quality control on the input read pairs.\n",
    "  - `QUANT:` Quantifies gene expression using the indexed transcriptome and the input read pairs."
   ]
  },
  {
   "cell_type": "markdown",
   "metadata": {},
   "source": [
    "### Process Definitions:"
   ]
  },
  {
   "cell_type": "markdown",
   "metadata": {},
   "source": [
    "#### 1. Index Process"
   ]
  },
  {
   "cell_type": "markdown",
   "metadata": {},
   "source": [
    "```groovy\n",
    "process INDEX {\n",
    "    tag \"$transcriptome.simpleName\"\n",
    "\n",
    "    input:\n",
    "    path transcriptome\n",
    "\n",
    "    output:\n",
    "    path 'index'\n",
    "\n",
    "    script:\n",
    "    \"\"\"\n",
    "    salmon index --threads $task.cpus -t $transcriptome -i index\n",
    "    \"\"\"\n",
    "}\n",
    "```"
   ]
  },
  {
   "cell_type": "markdown",
   "metadata": {},
   "source": [
    "`tag:` Tags the process with the basename of the transcriptome file.\n",
    "\n",
    "`input:` Defines the input file path for the transcriptome.\n",
    "\n",
    "`output:` Defines the output directory for the indexed transcriptome.\n",
    "\n",
    "`script:` Executes the salmon index command to index the transcriptome."
   ]
  },
  {
   "cell_type": "markdown",
   "metadata": {},
   "source": [
    "### 2. FASTQC Process:"
   ]
  },
  {
   "cell_type": "markdown",
   "metadata": {},
   "source": [
    "```groovy\n",
    "process FASTQC {\n",
    "    tag \"FASTQC on $sample_id\"\n",
    "    publishDir params.outdir\n",
    "\n",
    "    input:\n",
    "    tuple val(sample_id), path(reads)\n",
    "\n",
    "    output:\n",
    "    path \"fastqc_${sample_id}_logs\"\n",
    "\n",
    "    script:\n",
    "    \"\"\"\n",
    "    fastqc.sh \"$sample_id\" \"$reads\"\n",
    "    \"\"\"\n",
    "}\n",
    "\n",
    "```"
   ]
  },
  {
   "cell_type": "markdown",
   "metadata": {},
   "source": [
    "- `tag:` Tags the process with a description including the sample ID.\n",
    "- `publishDir:` Specifies the directory where the output files will be saved.\n",
    "- `input:` Defines a tuple containing the sample ID and the path to the read file.\n",
    "- `output:` Defines the output directory for the FASTQC logs.\n",
    "- `script:` Executes the fastqc.sh script for performing FASTQC analysis on the read file."
   ]
  },
  {
   "cell_type": "markdown",
   "metadata": {},
   "source": [
    "### 3. QUANT Process:"
   ]
  },
  {
   "cell_type": "markdown",
   "metadata": {},
   "source": [
    "```groovy\n",
    "process QUANT {\n",
    "    tag \"$pair_id\"\n",
    "    publishDir params.outdir\n",
    "\n",
    "    input:\n",
    "    path index\n",
    "    tuple val(pair_id), path(reads)\n",
    "\n",
    "    output:\n",
    "    path pair_id\n",
    "\n",
    "    script:\n",
    "    \"\"\"\n",
    "    salmon quant --threads $task.cpus --libType=U -i $index -1 ${reads[0]} -2 ${reads[1]} -o $pair_id\n",
    "    \"\"\"\n",
    "}\n",
    "```"
   ]
  },
  {
   "cell_type": "markdown",
   "metadata": {},
   "source": [
    "`tag:` Tags the process with the pair ID.\n",
    "\n",
    "`publishDir:` Specifies the directory where the output files will be saved.\n",
    "\n",
    "`input:` Defines the input paths for the index and the read pair.\n",
    "\n",
    "`output:` Defines the output directory for the quantification results.\n",
    "\n",
    "`script:` Executes the salmon quant command to quantify gene expression using the indexed transcriptome and the input read pairs."
   ]
  },
  {
   "cell_type": "markdown",
   "metadata": {},
   "source": [
    "# Try it in your computer"
   ]
  },
  {
   "cell_type": "markdown",
   "metadata": {},
   "source": [
    "Instead of runnung this `.nf` file, we can automatically download the pipeline [GitHub repository](https://github.com/nextflow-io/rnaseq-nf) and the associated `Docker` images and then run the pipeline. This command below does these steps:"
   ]
  },
  {
   "cell_type": "markdown",
   "metadata": {},
   "source": [
    "```bash\n",
    "./nextflow run rnaseq-nf -with-docker\n",
    "```"
   ]
  }
 ],
 "metadata": {
  "language_info": {
   "name": "python"
  }
 },
 "nbformat": 4,
 "nbformat_minor": 2
}
